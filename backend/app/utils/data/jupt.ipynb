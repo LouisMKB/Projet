{
 "cells": [
  {
   "cell_type": "code",
   "execution_count": null,
   "id": "e7b5fcd0",
   "metadata": {},
   "outputs": [
    {
     "name": "stdout",
     "output_type": "stream",
     "text": [
      "Fichier .db utilisé : c:\\Users\\lecle\\code\\informatique_avancee\\projet\\Projet\\backend\\app\\utils\\data\\films_reco.db\n",
      "Tables disponibles :  [('films',), ('ratings',)]\n",
      "[(8125,)]\n"
     ]
    }
   ],
   "source": [
    "import duckdb\n",
    "import os\n",
    "print(\"Fichier .db utilisé :\", os.path.abspath('films_reco.db'))\n",
    "# Connexion à la base de données\n",
    "conn = duckdb.connect('films_reco.db')\n",
    "\n",
    "# Lister les tables\n",
    "tables = conn.execute(\"SHOW TABLES\").fetchall()\n",
    "print(\"Tables disponibles : \", tables)\n",
    "\n",
    "\n",
    "# Si tu veux voir les données d'une table\n",
    "table_name = \"films\"  # Remplace par ta table\n",
    "# data = conn.execute(f\"SELECT * FROM films\").fetchall()\n",
    "df = conn.execute(\"SELECT * FROM films\").fetchdf()\n",
    "print(conn.execute(\"SELECT count(*) FROM films\").fetchall())"
   ]
  },
  {
   "cell_type": "code",
   "execution_count": null,
   "id": "92482120",
   "metadata": {},
   "outputs": [],
   "source": [
    "\n",
    "conn.close()\n"
   ]
  },
  {
   "cell_type": "code",
   "execution_count": null,
   "id": "b5aff6b5",
   "metadata": {},
   "outputs": [
    {
     "data": {
      "text/plain": [
       "<duckdb.duckdb.DuckDBPyConnection at 0x27907d05730>"
      ]
     },
     "execution_count": 65,
     "metadata": {},
     "output_type": "execute_result"
    }
   ],
   "source": [
    "conn.execute(\"\"\"\n",
    "    DELETE FROM films\n",
    "    WHERE release_date IS NULL;\n",
    "\"\"\")\n",
    "\n",
    "\n"
   ]
  },
  {
   "cell_type": "code",
   "execution_count": null,
   "id": "c301d9e1",
   "metadata": {},
   "outputs": [
    {
     "data": {
      "text/plain": [
       "[(23814,)]"
      ]
     },
     "execution_count": 4,
     "metadata": {},
     "output_type": "execute_result"
    }
   ],
   "source": [
    "conn.execute(\"SELECT count(rating) FROM ratings where rating = 0.5\").fetchall()\n"
   ]
  },
  {
   "cell_type": "code",
   "execution_count": 6,
   "id": "97f3bc5f",
   "metadata": {},
   "outputs": [
    {
     "data": {
      "text/plain": [
       "[(8125,)]"
      ]
     },
     "execution_count": 6,
     "metadata": {},
     "output_type": "execute_result"
    }
   ],
   "source": [
    "conn.execute(\"SELECT count(*) FROM films\").fetchall()"
   ]
  },
  {
   "cell_type": "code",
   "execution_count": 7,
   "id": "c006a93c",
   "metadata": {},
   "outputs": [
    {
     "data": {
      "text/html": [
       "<div>\n",
       "<style scoped>\n",
       "    .dataframe tbody tr th:only-of-type {\n",
       "        vertical-align: middle;\n",
       "    }\n",
       "\n",
       "    .dataframe tbody tr th {\n",
       "        vertical-align: top;\n",
       "    }\n",
       "\n",
       "    .dataframe thead th {\n",
       "        text-align: right;\n",
       "    }\n",
       "</style>\n",
       "<table border=\"1\" class=\"dataframe\">\n",
       "  <thead>\n",
       "    <tr style=\"text-align: right;\">\n",
       "      <th></th>\n",
       "      <th>genres</th>\n",
       "    </tr>\n",
       "  </thead>\n",
       "  <tbody>\n",
       "    <tr>\n",
       "      <th>0</th>\n",
       "      <td>Action,Adventure,Fantasy</td>\n",
       "    </tr>\n",
       "    <tr>\n",
       "      <th>1</th>\n",
       "      <td>Crime,Thriller,Drama</td>\n",
       "    </tr>\n",
       "    <tr>\n",
       "      <th>2</th>\n",
       "      <td>Fantasy,Action,Thriller,Science Fiction</td>\n",
       "    </tr>\n",
       "    <tr>\n",
       "      <th>3</th>\n",
       "      <td>Animation,Adventure,Family,Comedy</td>\n",
       "    </tr>\n",
       "    <tr>\n",
       "      <th>4</th>\n",
       "      <td>Animation,Romance,Drama</td>\n",
       "    </tr>\n",
       "    <tr>\n",
       "      <th>...</th>\n",
       "      <td>...</td>\n",
       "    </tr>\n",
       "    <tr>\n",
       "      <th>274</th>\n",
       "      <td>Adventure,Animation,Music,Fantasy,Comedy</td>\n",
       "    </tr>\n",
       "    <tr>\n",
       "      <th>275</th>\n",
       "      <td>Music,Romance,Drama</td>\n",
       "    </tr>\n",
       "    <tr>\n",
       "      <th>276</th>\n",
       "      <td>Drama,Thriller</td>\n",
       "    </tr>\n",
       "    <tr>\n",
       "      <th>277</th>\n",
       "      <td>Comedy,Music</td>\n",
       "    </tr>\n",
       "    <tr>\n",
       "      <th>278</th>\n",
       "      <td>Drama,Thriller,Crime</td>\n",
       "    </tr>\n",
       "  </tbody>\n",
       "</table>\n",
       "<p>279 rows × 1 columns</p>\n",
       "</div>"
      ],
      "text/plain": [
       "                                       genres\n",
       "0                    Action,Adventure,Fantasy\n",
       "1                        Crime,Thriller,Drama\n",
       "2     Fantasy,Action,Thriller,Science Fiction\n",
       "3           Animation,Adventure,Family,Comedy\n",
       "4                     Animation,Romance,Drama\n",
       "..                                        ...\n",
       "274  Adventure,Animation,Music,Fantasy,Comedy\n",
       "275                       Music,Romance,Drama\n",
       "276                            Drama,Thriller\n",
       "277                              Comedy,Music\n",
       "278                      Drama,Thriller,Crime\n",
       "\n",
       "[279 rows x 1 columns]"
      ]
     },
     "execution_count": 7,
     "metadata": {},
     "output_type": "execute_result"
    }
   ],
   "source": [
    "df = conn.execute(\"\"\"\n",
    "    SELECT genres\n",
    "    FROM films\n",
    "    WHERE STRFTIME('%Y', release_date) = ?\n",
    "\"\"\", [str(2016)]).fetchdf()\n",
    "\n",
    "df\n",
    "\n"
   ]
  },
  {
   "cell_type": "code",
   "execution_count": null,
   "id": "76e755f7",
   "metadata": {},
   "outputs": [],
   "source": []
  },
  {
   "cell_type": "code",
   "execution_count": 8,
   "id": "a8be376f",
   "metadata": {},
   "outputs": [
    {
     "data": {
      "text/plain": [
       "(1461519,\n",
       " 'Untitled A Minecraft Movie Sequel',\n",
       " 'Family,Comedy,Adventure,Fantasy',\n",
       " 'The sequel to A Minecraft Movie. Plot TBA. Currently undergoing development and early production stages.',\n",
       " None,\n",
       " 0.0,\n",
       " 0)"
      ]
     },
     "execution_count": 8,
     "metadata": {},
     "output_type": "execute_result"
    }
   ],
   "source": [
    "conn.execute(\"\"\"\n",
    "    SELECT * FROM films WHERE id= 1461519\n",
    "\"\"\").fetchone()\n"
   ]
  },
  {
   "cell_type": "code",
   "execution_count": 11,
   "id": "e7997448",
   "metadata": {},
   "outputs": [
    {
     "name": "stdout",
     "output_type": "stream",
     "text": [
      "Nombre de lignes dans la table films : 1750845\n"
     ]
    }
   ],
   "source": [
    "count = conn.execute(\"SELECT COUNT(*) FROM ratings\").fetchone()[0]\n",
    "print(\"Nombre de lignes dans la table films :\", count)"
   ]
  },
  {
   "cell_type": "code",
   "execution_count": 10,
   "id": "fb187ba1",
   "metadata": {},
   "outputs": [
    {
     "name": "stdout",
     "output_type": "stream",
     "text": [
      "Nombre de lignes dans la table films : 8125\n"
     ]
    }
   ],
   "source": [
    "count = conn.execute(\"SELECT COUNT(*) FROM films\").fetchone()[0]\n",
    "print(\"Nombre de lignes dans la table films :\", count)"
   ]
  },
  {
   "cell_type": "code",
   "execution_count": 12,
   "id": "ff7979e8",
   "metadata": {},
   "outputs": [
    {
     "name": "stdout",
     "output_type": "stream",
     "text": [
      "(1, 110, 1.0, 1425941529)\n",
      "(1, 147, 4.5, 1425942435)\n",
      "(1, 858, 5.0, 1425941523)\n",
      "(1, 1221, 5.0, 1425941546)\n",
      "(1, 1246, 5.0, 1425941556)\n",
      "(1, 1968, 4.0, 1425942148)\n",
      "(1, 2762, 4.5, 1425941300)\n",
      "(1, 2918, 5.0, 1425941593)\n",
      "(1, 2959, 4.0, 1425941601)\n",
      "(1, 4226, 4.0, 1425942228)\n"
     ]
    }
   ],
   "source": [
    "# Lire les 10 premières lignes de la table \"ratings\" dans un DataFrame\n",
    "df = conn.execute(\"SELECT * FROM ratings LIMIT 10\").fetchall()\n",
    "\n",
    "for row in df:\n",
    "    print(row)\n",
    "\n"
   ]
  },
  {
   "cell_type": "code",
   "execution_count": 13,
   "id": "97d5e681",
   "metadata": {},
   "outputs": [],
   "source": [
    "conn.close()"
   ]
  },
  {
   "cell_type": "code",
   "execution_count": 9,
   "id": "283cfc59",
   "metadata": {},
   "outputs": [
    {
     "data": {
      "text/plain": [
       "(324544,\n",
       " 'In the Lost Lands',\n",
       " 'Fantasy,Adventure,Action',\n",
       " 'A queen sends the powerful and feared sorceress Gray Alys to the ghostly wilderness of the Lost Lands in search of a magical power, where she and her guide, the drifter Boyce, must outwit and outfight both man and demon.',\n",
       " datetime.date(2025, 2, 27),\n",
       " 6.295000076293945,\n",
       " 285)"
      ]
     },
     "execution_count": 9,
     "metadata": {},
     "output_type": "execute_result"
    }
   ],
   "source": [
    "conn.execute(\"SELECT * FROM films WHERE id = 324544\").fetchone()"
   ]
  }
 ],
 "metadata": {
  "kernelspec": {
   "display_name": "Python 3",
   "language": "python",
   "name": "python3"
  },
  "language_info": {
   "codemirror_mode": {
    "name": "ipython",
    "version": 3
   },
   "file_extension": ".py",
   "mimetype": "text/x-python",
   "name": "python",
   "nbconvert_exporter": "python",
   "pygments_lexer": "ipython3",
   "version": "3.13.2"
  }
 },
 "nbformat": 4,
 "nbformat_minor": 5
}
