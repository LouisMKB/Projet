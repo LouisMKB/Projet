{
 "cells": [
  {
   "cell_type": "code",
   "execution_count": 1,
   "id": "e7b5fcd0",
   "metadata": {},
   "outputs": [
    {
     "name": "stdout",
     "output_type": "stream",
     "text": [
      "Fichier .db utilisé : c:\\Users\\lecle\\code\\informatique_avancee\\projet\\Projet\\backend\\app\\utils\\data\\films_reco.db\n",
      "Tables disponibles :  [('films',), ('ratings',)]\n",
      "[(7594,)]\n"
     ]
    }
   ],
   "source": [
    "import duckdb\n",
    "import os\n",
    "print(\"Fichier .db utilisé :\", os.path.abspath('films_reco.db'))\n",
    "# Connexion à la base de données\n",
    "conn = duckdb.connect('films_reco.db')\n",
    "\n",
    "# Lister les tables\n",
    "tables = conn.execute(\"SHOW TABLES\").fetchall()\n",
    "print(\"Tables disponibles : \", tables)\n",
    "\n",
    "\n",
    "# Si tu veux voir les données d'une table\n",
    "table_name = \"films\"  # Remplace par ta table\n",
    "# data = conn.execute(f\"SELECT * FROM films\").fetchall()\n",
    "df = conn.execute(\"SELECT * FROM films\").fetchdf()\n",
    "print(conn.execute(\"SELECT count(*) FROM films\").fetchall())"
   ]
  },
  {
   "cell_type": "code",
   "execution_count": 2,
   "id": "92482120",
   "metadata": {},
   "outputs": [],
   "source": [
    "\n",
    "conn.close()\n"
   ]
  },
  {
   "cell_type": "code",
   "execution_count": 18,
   "id": "b5aff6b5",
   "metadata": {},
   "outputs": [
    {
     "data": {
      "text/plain": [
       "<duckdb.duckdb.DuckDBPyConnection at 0x1622a84fd70>"
      ]
     },
     "execution_count": 18,
     "metadata": {},
     "output_type": "execute_result"
    }
   ],
   "source": [
    "conn.execute(\"\"\"\n",
    "    DELETE FROM films\n",
    "    WHERE release_date IS NULL;\n",
    "\"\"\")\n",
    "\n",
    "\n"
   ]
  },
  {
   "cell_type": "code",
   "execution_count": 14,
   "id": "63714261",
   "metadata": {},
   "outputs": [
    {
     "data": {
      "text/plain": [
       "<duckdb.duckdb.DuckDBPyConnection at 0x1622996e1b0>"
      ]
     },
     "execution_count": 14,
     "metadata": {},
     "output_type": "execute_result"
    }
   ],
   "source": [
    "conn.execute(\"Drop table films\")"
   ]
  },
  {
   "cell_type": "code",
   "execution_count": null,
   "id": "c301d9e1",
   "metadata": {},
   "outputs": [
    {
     "data": {
      "text/plain": [
       "[(23814,)]"
      ]
     },
     "execution_count": 4,
     "metadata": {},
     "output_type": "execute_result"
    }
   ],
   "source": [
    "conn.execute(\"SELECT count(rating) FROM ratings where rating = 0.5\").fetchall()\n"
   ]
  },
  {
   "cell_type": "code",
   "execution_count": 3,
   "id": "97f3bc5f",
   "metadata": {},
   "outputs": [
    {
     "data": {
      "text/plain": [
       "[(7594,)]"
      ]
     },
     "execution_count": 3,
     "metadata": {},
     "output_type": "execute_result"
    }
   ],
   "source": [
    "conn.execute(\"SELECT count(*) FROM films\").fetchall()"
   ]
  },
  {
   "cell_type": "code",
   "execution_count": 3,
   "id": "c006a93c",
   "metadata": {},
   "outputs": [
    {
     "data": {
      "text/html": [
       "<div>\n",
       "<style scoped>\n",
       "    .dataframe tbody tr th:only-of-type {\n",
       "        vertical-align: middle;\n",
       "    }\n",
       "\n",
       "    .dataframe tbody tr th {\n",
       "        vertical-align: top;\n",
       "    }\n",
       "\n",
       "    .dataframe thead th {\n",
       "        text-align: right;\n",
       "    }\n",
       "</style>\n",
       "<table border=\"1\" class=\"dataframe\">\n",
       "  <thead>\n",
       "    <tr style=\"text-align: right;\">\n",
       "      <th></th>\n",
       "      <th>genres</th>\n",
       "    </tr>\n",
       "  </thead>\n",
       "  <tbody>\n",
       "    <tr>\n",
       "      <th>0</th>\n",
       "      <td>Action,Adventure,Fantasy</td>\n",
       "    </tr>\n",
       "    <tr>\n",
       "      <th>1</th>\n",
       "      <td>Crime,Thriller,Drama</td>\n",
       "    </tr>\n",
       "    <tr>\n",
       "      <th>2</th>\n",
       "      <td>Comedy,Drama,History,Adventure</td>\n",
       "    </tr>\n",
       "    <tr>\n",
       "      <th>3</th>\n",
       "      <td>Animation,Adventure,Family,Comedy</td>\n",
       "    </tr>\n",
       "    <tr>\n",
       "      <th>4</th>\n",
       "      <td>Drama,History</td>\n",
       "    </tr>\n",
       "    <tr>\n",
       "      <th>...</th>\n",
       "      <td>...</td>\n",
       "    </tr>\n",
       "    <tr>\n",
       "      <th>246</th>\n",
       "      <td>Action,Adventure,Science Fiction</td>\n",
       "    </tr>\n",
       "    <tr>\n",
       "      <th>247</th>\n",
       "      <td>Animation,Adventure,Family</td>\n",
       "    </tr>\n",
       "    <tr>\n",
       "      <th>248</th>\n",
       "      <td>Action,Animation,Science Fiction</td>\n",
       "    </tr>\n",
       "    <tr>\n",
       "      <th>249</th>\n",
       "      <td>Crime,Thriller</td>\n",
       "    </tr>\n",
       "    <tr>\n",
       "      <th>250</th>\n",
       "      <td>Drama,Action,Science Fiction</td>\n",
       "    </tr>\n",
       "  </tbody>\n",
       "</table>\n",
       "<p>251 rows × 1 columns</p>\n",
       "</div>"
      ],
      "text/plain": [
       "                                genres\n",
       "0             Action,Adventure,Fantasy\n",
       "1                 Crime,Thriller,Drama\n",
       "2       Comedy,Drama,History,Adventure\n",
       "3    Animation,Adventure,Family,Comedy\n",
       "4                        Drama,History\n",
       "..                                 ...\n",
       "246   Action,Adventure,Science Fiction\n",
       "247         Animation,Adventure,Family\n",
       "248   Action,Animation,Science Fiction\n",
       "249                     Crime,Thriller\n",
       "250       Drama,Action,Science Fiction\n",
       "\n",
       "[251 rows x 1 columns]"
      ]
     },
     "execution_count": 3,
     "metadata": {},
     "output_type": "execute_result"
    }
   ],
   "source": [
    "df = conn.execute(\"\"\"\n",
    "    SELECT genres\n",
    "    FROM films\n",
    "    WHERE STRFTIME('%Y', release_date) = ?\n",
    "\"\"\", [str(2016)]).fetchdf()\n",
    "\n",
    "df\n",
    "\n"
   ]
  },
  {
   "cell_type": "code",
   "execution_count": null,
   "id": "76e755f7",
   "metadata": {},
   "outputs": [],
   "source": []
  },
  {
   "cell_type": "code",
   "execution_count": 3,
   "id": "a8be376f",
   "metadata": {},
   "outputs": [],
   "source": [
    "conn.execute(\"\"\"\n",
    "    SELECT * FROM films WHERE id= 1461519\n",
    "\"\"\").fetchone()\n"
   ]
  },
  {
   "cell_type": "code",
   "execution_count": 11,
   "id": "e7997448",
   "metadata": {},
   "outputs": [
    {
     "name": "stdout",
     "output_type": "stream",
     "text": [
      "Nombre de lignes dans la table films : 1750845\n"
     ]
    }
   ],
   "source": [
    "count = conn.execute(\"SELECT COUNT(*) FROM ratings\").fetchone()[0]\n",
    "print(\"Nombre de lignes dans la table films :\", count)"
   ]
  },
  {
   "cell_type": "code",
   "execution_count": 10,
   "id": "fb187ba1",
   "metadata": {},
   "outputs": [
    {
     "name": "stdout",
     "output_type": "stream",
     "text": [
      "Nombre de lignes dans la table films : 8125\n"
     ]
    }
   ],
   "source": [
    "count = conn.execute(\"SELECT COUNT(*) FROM films\").fetchone()[0]\n",
    "print(\"Nombre de lignes dans la table films :\", count)"
   ]
  },
  {
   "cell_type": "code",
   "execution_count": 4,
   "id": "ff7979e8",
   "metadata": {},
   "outputs": [
    {
     "name": "stdout",
     "output_type": "stream",
     "text": [
      "(1197306, 'A Working Man', 'Action,Crime,Thriller', \"Levon Cade left behind a decorated military career in the black ops to live a simple life working construction. But when his boss's daughter, who is like family to him, is taken by human traffickers, his search to bring her home uncovers a world of corruption far greater than he ever could have imagined.\", datetime.date(2025, 3, 26), 6.392000198364258, 482, '/xUkUZ8eOnrOnnJAfusZUqKYZiDu.jpg')\n",
      "(668489, 'Havoc', 'Action,Crime,Thriller', \"When a drug heist swerves lethally out of control, a jaded cop fights his way through a corrupt city's criminal underworld to save a politician's son.\", datetime.date(2025, 4, 24), 6.599999904632568, 285, '/r46leE6PSzLR3pnVzaxx5Q30yUF.jpg')\n",
      "(950387, 'A Minecraft Movie', 'Family,Comedy,Adventure,Fantasy', \"Four misfits find themselves struggling with ordinary problems when they are suddenly pulled through a mysterious portal into the Overworld: a bizarre, cubic wonderland that thrives on imagination. To get back home, they'll have to master this world while embarking on a magical quest with an unexpected, expert crafter, Steve.\", datetime.date(2025, 3, 31), 6.199999809265137, 753, '/iPPTGh2OXuIv6d7cwuoPkw8govp.jpg')\n",
      "(1471014, 'Van Gogh by Vincent', 'Documentary', 'In a career that lasted only ten years, Vincent Van Gogh painted one subject more than any other: himself. This is the story of Vincent told using eight of his most iconic self-portraits.', datetime.date(2025, 3, 26), 4.800000190734863, 2, '/z73X4WKZghBh5fri31o8P6vBEB2.jpg')\n",
      "(1276073, 'Bullet Train Explosion', 'Action,Thriller,Crime,Drama', 'When panic erupts on a Tokyo-bound bullet train that will explode if it slows below 100 kph, authorities race against time to save everyone on board.', datetime.date(2025, 4, 23), 6.690999984741211, 94, '/qkTKtOHK9JEEOHgPQZ0dFtzs5ML.jpg')\n",
      "(1092899, 'The Siege', 'Action,Thriller', 'International assassin Walker is compromised during a mission and sent to a reassignment center for a new identity. During his stay at the facility, a ruthless assault team storms the compound searching for someone their boss has lost. Walker begrudgingly falls in with skilled hitwoman Elda and her mysterious ward Juliet in order to survive the night.', datetime.date(2023, 3, 10), 5.383999824523926, 43, '/hVh4hMzkXNLnScudbid6hDvjMPk.jpg')\n",
      "(324544, 'In the Lost Lands', 'Fantasy,Adventure,Action', 'A queen sends the powerful and feared sorceress Gray Alys to the ghostly wilderness of the Lost Lands in search of a magical power, where she and her guide, the drifter Boyce, must outwit and outfight both man and demon.', datetime.date(2025, 2, 27), 6.300000190734863, 294, '/twy1IVJFgaZWA21Sr6kohEOmdFW.jpg')\n",
      "(822119, 'Captain America: Brave New World', 'Action,Thriller,Science Fiction', 'After meeting with newly elected U.S. President Thaddeus Ross, Sam finds himself in the middle of an international incident. He must discover the reason behind a nefarious global plot before the true mastermind has the entire world seeing red.', datetime.date(2025, 2, 12), 6.199999809265137, 1663, '/pzIddUEMWhWzfvLI3TwxUG2wGoi.jpg')\n",
      "(1180906, 'Desert Dawn', 'Action,Crime,Mystery,Thriller', 'A newly appointed small-town sheriff and his begrudging deputy get tangled up in a web of lies and corruption involving shady businessmen and the cartel while investigating the murder of a mysterious woman.', datetime.date(2025, 5, 15), 0.0, 0, '/S21BfLrJSD9njucBfY3CKqp8rD.jpg')\n",
      "(1233413, 'Sinners', 'Horror,Thriller', 'Trying to leave their troubled lives behind, twin brothers return to their hometown to start again, only to discover that an even greater evil is waiting to welcome them back.', datetime.date(2025, 4, 16), 7.599999904632568, 437, '/fWPgbnt2LSqkQ6cdQc0SZN9CpLm.jpg')\n"
     ]
    }
   ],
   "source": [
    "# Lire les 10 premières lignes de la table \"ratings\" dans un DataFrame\n",
    "df = conn.execute(\"SELECT * FROM films LIMIT 10\").fetchall()\n",
    "\n",
    "for row in df:\n",
    "    print(row)\n",
    "\n"
   ]
  },
  {
   "cell_type": "code",
   "execution_count": 6,
   "id": "97d5e681",
   "metadata": {},
   "outputs": [],
   "source": [
    "conn.close()"
   ]
  },
  {
   "cell_type": "code",
   "execution_count": 9,
   "id": "283cfc59",
   "metadata": {},
   "outputs": [
    {
     "data": {
      "text/plain": [
       "(324544,\n",
       " 'In the Lost Lands',\n",
       " 'Fantasy,Adventure,Action',\n",
       " 'A queen sends the powerful and feared sorceress Gray Alys to the ghostly wilderness of the Lost Lands in search of a magical power, where she and her guide, the drifter Boyce, must outwit and outfight both man and demon.',\n",
       " datetime.date(2025, 2, 27),\n",
       " 6.295000076293945,\n",
       " 285)"
      ]
     },
     "execution_count": 9,
     "metadata": {},
     "output_type": "execute_result"
    }
   ],
   "source": [
    "conn.execute(\"SELECT * FROM films WHERE id = 324544\").fetchone()"
   ]
  }
 ],
 "metadata": {
  "kernelspec": {
   "display_name": "Python 3",
   "language": "python",
   "name": "python3"
  },
  "language_info": {
   "codemirror_mode": {
    "name": "ipython",
    "version": 3
   },
   "file_extension": ".py",
   "mimetype": "text/x-python",
   "name": "python",
   "nbconvert_exporter": "python",
   "pygments_lexer": "ipython3",
   "version": "3.13.2"
  }
 },
 "nbformat": 4,
 "nbformat_minor": 5
}
