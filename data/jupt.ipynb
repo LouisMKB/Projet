{
 "cells": [
  {
   "cell_type": "code",
   "execution_count": 64,
   "id": "e7b5fcd0",
   "metadata": {},
   "outputs": [
    {
     "name": "stdout",
     "output_type": "stream",
     "text": [
      "Fichier .db utilisé : c:\\Users\\lecle\\code\\informatique_avancee\\projet\\Projet\\data\\films_reco.db\n",
      "Tables disponibles :  [('films',), ('ratings',)]\n"
     ]
    }
   ],
   "source": [
    "import duckdb\n",
    "import os\n",
    "print(\"Fichier .db utilisé :\", os.path.abspath('films_reco.db'))\n",
    "# Connexion à la base de données\n",
    "conn = duckdb.connect('films_reco.db')\n",
    "\n",
    "# Lister les tables\n",
    "tables = conn.execute(\"SHOW TABLES\").fetchall()\n",
    "print(\"Tables disponibles : \", tables)\n",
    "\n",
    "\n",
    "# Si tu veux voir les données d'une table\n",
    "table_name = \"films\"  # Remplace par ta table\n",
    "# data = conn.execute(f\"SELECT * FROM films\").fetchall()\n",
    "df = conn.execute(\"SELECT * FROM films\").fetchdf()\n"
   ]
  },
  {
   "cell_type": "code",
   "execution_count": null,
   "id": "b5aff6b5",
   "metadata": {},
   "outputs": [
    {
     "data": {
      "text/plain": [
       "<duckdb.duckdb.DuckDBPyConnection at 0x27907d05730>"
      ]
     },
     "execution_count": 65,
     "metadata": {},
     "output_type": "execute_result"
    }
   ],
   "source": [
    "conn.execute(\"\"\"\n",
    "    DELETE FROM films\n",
    "    WHERE release_date IS NULL;\n",
    "\"\"\")\n",
    "\n",
    "\n"
   ]
  },
  {
   "cell_type": "code",
   "execution_count": 85,
   "id": "c006a93c",
   "metadata": {},
   "outputs": [
    {
     "data": {
      "text/html": [
       "<div>\n",
       "<style scoped>\n",
       "    .dataframe tbody tr th:only-of-type {\n",
       "        vertical-align: middle;\n",
       "    }\n",
       "\n",
       "    .dataframe tbody tr th {\n",
       "        vertical-align: top;\n",
       "    }\n",
       "\n",
       "    .dataframe thead th {\n",
       "        text-align: right;\n",
       "    }\n",
       "</style>\n",
       "<table border=\"1\" class=\"dataframe\">\n",
       "  <thead>\n",
       "    <tr style=\"text-align: right;\">\n",
       "      <th></th>\n",
       "      <th>genres</th>\n",
       "    </tr>\n",
       "  </thead>\n",
       "  <tbody>\n",
       "    <tr>\n",
       "      <th>0</th>\n",
       "      <td>Animation,Adventure,Family,Comedy</td>\n",
       "    </tr>\n",
       "    <tr>\n",
       "      <th>1</th>\n",
       "      <td>Crime,Thriller,Drama</td>\n",
       "    </tr>\n",
       "    <tr>\n",
       "      <th>2</th>\n",
       "      <td>Animation,Romance,Drama</td>\n",
       "    </tr>\n",
       "    <tr>\n",
       "      <th>3</th>\n",
       "      <td>Adventure,Action,Science Fiction</td>\n",
       "    </tr>\n",
       "    <tr>\n",
       "      <th>4</th>\n",
       "      <td>Drama,History,War</td>\n",
       "    </tr>\n",
       "    <tr>\n",
       "      <th>...</th>\n",
       "      <td>...</td>\n",
       "    </tr>\n",
       "    <tr>\n",
       "      <th>242</th>\n",
       "      <td>Comedy,Drama,Romance</td>\n",
       "    </tr>\n",
       "    <tr>\n",
       "      <th>243</th>\n",
       "      <td>Drama,Romance</td>\n",
       "    </tr>\n",
       "    <tr>\n",
       "      <th>244</th>\n",
       "      <td>Horror,Thriller</td>\n",
       "    </tr>\n",
       "    <tr>\n",
       "      <th>245</th>\n",
       "      <td>Drama,Romance</td>\n",
       "    </tr>\n",
       "    <tr>\n",
       "      <th>246</th>\n",
       "      <td>Fantasy,Comedy,Family</td>\n",
       "    </tr>\n",
       "  </tbody>\n",
       "</table>\n",
       "<p>247 rows × 1 columns</p>\n",
       "</div>"
      ],
      "text/plain": [
       "                                genres\n",
       "0    Animation,Adventure,Family,Comedy\n",
       "1                 Crime,Thriller,Drama\n",
       "2              Animation,Romance,Drama\n",
       "3     Adventure,Action,Science Fiction\n",
       "4                    Drama,History,War\n",
       "..                                 ...\n",
       "242               Comedy,Drama,Romance\n",
       "243                      Drama,Romance\n",
       "244                    Horror,Thriller\n",
       "245                      Drama,Romance\n",
       "246              Fantasy,Comedy,Family\n",
       "\n",
       "[247 rows x 1 columns]"
      ]
     },
     "execution_count": 85,
     "metadata": {},
     "output_type": "execute_result"
    }
   ],
   "source": [
    "df = conn.execute(\"\"\"\n",
    "    SELECT genres\n",
    "    FROM films\n",
    "    WHERE STRFTIME('%Y', release_date) = ?\n",
    "\"\"\", [str(2016)]).fetchdf()\n",
    "\n",
    "df\n",
    "\n"
   ]
  },
  {
   "cell_type": "code",
   "execution_count": null,
   "id": "76e755f7",
   "metadata": {},
   "outputs": [],
   "source": []
  },
  {
   "cell_type": "code",
   "execution_count": 60,
   "id": "a8be376f",
   "metadata": {},
   "outputs": [],
   "source": [
    "conn.execute(\"\"\"\n",
    "    SELECT * FROM films WHERE id= 1461519\n",
    "\"\"\").fetchone()\n"
   ]
  },
  {
   "cell_type": "code",
   "execution_count": 61,
   "id": "e7997448",
   "metadata": {},
   "outputs": [
    {
     "name": "stdout",
     "output_type": "stream",
     "text": [
      "Nombre de lignes dans la table films : 1750845\n"
     ]
    }
   ],
   "source": [
    "count = conn.execute(\"SELECT COUNT(*) FROM ratings\").fetchone()[0]\n",
    "print(\"Nombre de lignes dans la table films :\", count)"
   ]
  },
  {
   "cell_type": "code",
   "execution_count": 62,
   "id": "fb187ba1",
   "metadata": {},
   "outputs": [
    {
     "name": "stdout",
     "output_type": "stream",
     "text": [
      "Nombre de lignes dans la table films : 7753\n"
     ]
    }
   ],
   "source": [
    "count = conn.execute(\"SELECT COUNT(*) FROM films\").fetchone()[0]\n",
    "print(\"Nombre de lignes dans la table films :\", count)"
   ]
  },
  {
   "cell_type": "code",
   "execution_count": 12,
   "id": "ff7979e8",
   "metadata": {},
   "outputs": [
    {
     "name": "stdout",
     "output_type": "stream",
     "text": [
      "(1, 110, 1.0, 1425941529)\n",
      "(1, 147, 4.5, 1425942435)\n",
      "(1, 858, 5.0, 1425941523)\n",
      "(1, 1221, 5.0, 1425941546)\n",
      "(1, 1246, 5.0, 1425941556)\n",
      "(1, 1968, 4.0, 1425942148)\n",
      "(1, 2762, 4.5, 1425941300)\n",
      "(1, 2918, 5.0, 1425941593)\n",
      "(1, 2959, 4.0, 1425941601)\n",
      "(1, 4226, 4.0, 1425942228)\n"
     ]
    }
   ],
   "source": [
    "# Lire les 10 premières lignes de la table \"ratings\" dans un DataFrame\n",
    "df = conn.execute(\"SELECT * FROM ratings LIMIT 10\").fetchall()\n",
    "\n",
    "for row in df:\n",
    "    print(row)\n",
    "\n"
   ]
  },
  {
   "cell_type": "code",
   "execution_count": 86,
   "id": "97d5e681",
   "metadata": {},
   "outputs": [],
   "source": [
    "conn.close()"
   ]
  },
  {
   "cell_type": "code",
   "execution_count": 14,
   "id": "283cfc59",
   "metadata": {},
   "outputs": [
    {
     "ename": "ConnectionException",
     "evalue": "Connection Error: Connection already closed!",
     "output_type": "error",
     "traceback": [
      "\u001b[1;31m---------------------------------------------------------------------------\u001b[0m",
      "\u001b[1;31mConnectionException\u001b[0m                       Traceback (most recent call last)",
      "Cell \u001b[1;32mIn[14], line 1\u001b[0m\n\u001b[1;32m----> 1\u001b[0m \u001b[43mconn\u001b[49m\u001b[38;5;241;43m.\u001b[39;49m\u001b[43mexecute\u001b[49m\u001b[43m(\u001b[49m\u001b[38;5;124;43m\"\u001b[39;49m\u001b[38;5;124;43mSELECT * FROM films WHERE id = 324544\u001b[39;49m\u001b[38;5;124;43m\"\u001b[39;49m\u001b[43m)\u001b[49m\u001b[38;5;241m.\u001b[39mfetchone()\n",
      "\u001b[1;31mConnectionException\u001b[0m: Connection Error: Connection already closed!"
     ]
    }
   ],
   "source": [
    "conn.execute(\"SELECT * FROM films WHERE id = 324544\").fetchone()"
   ]
  }
 ],
 "metadata": {
  "kernelspec": {
   "display_name": "Python 3",
   "language": "python",
   "name": "python3"
  },
  "language_info": {
   "codemirror_mode": {
    "name": "ipython",
    "version": 3
   },
   "file_extension": ".py",
   "mimetype": "text/x-python",
   "name": "python",
   "nbconvert_exporter": "python",
   "pygments_lexer": "ipython3",
   "version": "3.13.2"
  }
 },
 "nbformat": 4,
 "nbformat_minor": 5
}
